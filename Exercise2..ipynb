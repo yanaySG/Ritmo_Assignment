﻿{
  "metadata": {
    "name": "Exercise2",
    "kernelspec": {
      "language": "scala",
      "name": "spark2-scala"
    },
    "language_info": {
      "codemirror_mode": "text/x-scala",
      "file_extension": ".scala",
      "mimetype": "text/x-scala",
      "name": "scala",
      "pygments_lexer": "scala"
    }
  },
  "nbformat": 4,
  "nbformat_minor": 2,
  "cells": [
    {
      "cell_type": "code",
      "execution_count": 0,
      "metadata": {
        "autoscroll": "auto"
      },
      "outputs": [],
      "source": "val customers \u003d spark.read.option(\"header\", \"true\").csv(\"/data/data.csv\")"
    },
    {
      "cell_type": "code",
      "execution_count": 1,
      "metadata": {
        "autoscroll": "auto"
      },
      "outputs": [],
      "source": "customers.createOrReplaceTempView(\"customers\")"
    },
    {
      "cell_type": "code",
      "execution_count": 2,
      "metadata": {
        "autoscroll": "auto"
      },
      "outputs": [],
      "source": "%sql\nselect * from customers\n"
    },
    {
      "cell_type": "code",
      "execution_count": 3,
      "metadata": {
        "autoscroll": "auto"
      },
      "outputs": [],
      "source": "%sql\nwith \n    base_table as (\n        select\n            company_id\n            , customer_id\n            , to_date(month, \"MMM-y\") as date\n        from customers),\n\n    last_date_per_company as (\n        select\n            company_id\n            , add_months(max(date), 1) as max_date\n        from base_table\n        group by 1)\n\n    select\n        a.company_id\n        , date_format(add_months(a.date, 1), \"MMM-yy\") as month\n        , round(sum(case when (b.date is null and add_months(a.date, 1) !\u003d c.max_date) then 1 else 0 end) / count(a.customer_id) * 100, 1) || \u0027%\u0027 as churn\n    from base_table a\n    left join base_table b on a.company_id \u003d b.company_id and a.customer_id \u003d b.customer_id and add_months(a.date, 1) \u003d b.date\n    left join last_date_per_company c on a.company_id \u003d c.company_id\n    where add_months(a.date, 1) !\u003d c.max_date\n    group by a.company_id, a.date\n    order by company_id, to_date(month, \"MMM-y\")"
    }
  ]
}